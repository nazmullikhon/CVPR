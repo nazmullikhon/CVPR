{
  "nbformat": 4,
  "nbformat_minor": 0,
  "metadata": {
    "colab": {
      "name": "Q1.ipynb",
      "provenance": []
    },
    "kernelspec": {
      "name": "python3",
      "display_name": "Python 3"
    },
    "language_info": {
      "name": "python"
    }
  },
  "cells": [
    {
      "cell_type": "code",
      "execution_count": 10,
      "metadata": {
        "colab": {
          "base_uri": "https://localhost:8080/",
          "height": 281
        },
        "id": "l2vtl-5wTv5v",
        "outputId": "566ba4c9-9e44-4beb-c63c-088edbe4733c"
      },
      "outputs": [
        {
          "output_type": "display_data",
          "data": {
            "image/png": "[encoded data removed]",
            "text/plain": [
              "<Figure size 432x288 with 1 Axes>"
            ]
          },
          "metadata": {
            "needs_background": "light"
          }
        }
      ],
      "source": [
        "import numpy as np\n",
        "import matplotlib.pyplot as plt\n",
        "%matplotlib inline\n",
        "\n",
        "def firsttask(n_points, noise=.5):\n",
        "    n = np.sqrt(np.random.rand(n_points,1)) * 780 * (2*np.pi)/360\n",
        "    d1x = -np.cos(n)*n + np.random.rand(n_points,1) * noise\n",
        "    d1y = np.sin(n)*n + np.random.rand(n_points,1) * noise\n",
        "    return (np.vstack((np.hstack((d1x,d1y)),np.hstack((-d1x,-d1y)))), \n",
        "            np.hstack((np.zeros(n_points),np.ones(n_points))))\n",
        "\n",
        "X, Y = firsttask(100)\n",
        "\n",
        "plt.title('spiral')\n",
        "plt.plot(X[Y==0,0], X[Y==0,1], '.', label='Yellow')\n",
        "plt.plot(X[Y==1,0], X[Y==1,1], '.', label='Blue')\n",
        "plt.legend()\n",
        "plt.show()"
      ]
    },
    {
      "cell_type": "code",
      "source": [
        "class NeuralNetwork_Tanh(object):\n",
        "    def __init__(self):\n",
        "        inputLayerNeurons = 2\n",
        "        hiddenLayerNeurons = 10\n",
        "        outLayerNeurons = 1\n",
        "        \n",
        "        self.learning_rate = 0.2\n",
        "        self.W_HI = np.random.randn(inputLayerNeurons, hiddenLayerNeurons)\n",
        "        self.W_OH = np.random.randn(hiddenLayerNeurons, outLayerNeurons)\n",
        "        \n",
        "    def tanh(self, x, der=False):\n",
        "        if der == True:\n",
        "            return 1-x**2\n",
        "        else:\n",
        "            return (np.exp(2*x) - 1) / (np.exp(2*x) + 1)\n",
        "        \n",
        "    def feedForward(self, X):\n",
        "        hidden_input = np.dot(X, self.W_HI)\n",
        "        self.hidden_output = self.tanh(hidden_input)\n",
        "        \n",
        "        output_input = np.dot(self.hidden_output, self.W_OH)\n",
        "        pred = self.tanh(output_input)\n",
        "        return pred\n",
        "        \n",
        "    def backPropagation(self, X, Y, pred):\n",
        "        output_error = Y - pred\n",
        "        output_delta = self.learning_rate * output_error * self.tanh(pred, der=True)\n",
        "        \n",
        "        hidden_error = output_delta.dot(self.W_OH.T)\n",
        "        hidden_delta = self.learning_rate * hidden_error * self.tanh(self.hidden_output, der=True)\n",
        "        \n",
        "        self.W_HI += X.T.dot(hidden_delta)\n",
        "        self.W_OH += self.hidden_output.T.dot(output_delta)\n",
        "        \n",
        "    def train(self, X, Y):\n",
        "        output = self.feedForward(X)\n",
        "        self.backPropagation(X,Y,output)"
      ],
      "metadata": {
        "id": "k4j8kyYiT0K2"
      },
      "execution_count": 2,
      "outputs": []
    },
    {
      "cell_type": "code",
      "source": [
        "NN = NeuralNetwork_Tanh()\n",
        "\n",
        "err = []\n",
        "for i in range(10000):\n",
        "    #NN.train(X,Y)\n",
        "     err.append(np.mean(np.square(Y - NN.feedForward(X))))\n",
        "\n",
        "plt.plot(err)"
      ],
      "metadata": {
        "colab": {
          "base_uri": "https://localhost:8080/",
          "height": 283
        },
        "id": "TY3jW13sT5xl",
        "outputId": "fd9c0618-33bc-44bd-a07b-3410895961d3"
      },
      "execution_count": 3,
      "outputs": [
        {
          "output_type": "execute_result",
          "data": {
            "text/plain": [
              "[<matplotlib.lines.Line2D at 0x7fa4c54c9650>]"
            ]
          },
          "metadata": {},
          "execution_count": 3
        },
        {
          "output_type": "display_data",
          "data": {
            "image/png": "[encoded data removed]",
            "text/plain": [
              "<Figure size 432x288 with 1 Axes>"
            ]
          },
          "metadata": {
            "needs_background": "light"
          }
        }
      ]
    },
    {
      "cell_type": "code",
      "source": [
        "print(NN.feedForward([0,0]))"
      ],
      "metadata": {
        "colab": {
          "base_uri": "https://localhost:8080/"
        },
        "id": "PQQBiIYXUB6N",
        "outputId": "d5977dde-0145-4e8a-95ed-2716d4243bdc"
      },
      "execution_count": 4,
      "outputs": [
        {
          "output_type": "stream",
          "name": "stdout",
          "text": [
            "[0.]\n"
          ]
        }
      ]
    },
    {
      "cell_type": "code",
      "source": [
        "print(NN.feedForward([1,1]))"
      ],
      "metadata": {
        "colab": {
          "base_uri": "https://localhost:8080/"
        },
        "id": "i-e6TeM6UGbe",
        "outputId": "a6a6981c-cc41-4e13-f745-d51647309cbd"
      },
      "execution_count": 5,
      "outputs": [
        {
          "output_type": "stream",
          "name": "stdout",
          "text": [
            "[-0.57874702]\n"
          ]
        }
      ]
    },
    {
      "cell_type": "code",
      "source": [
        "print(NN.feedForward([1,0]))"
      ],
      "metadata": {
        "colab": {
          "base_uri": "https://localhost:8080/"
        },
        "id": "hqUu1iMjULDu",
        "outputId": "8b557c8e-26e0-43b7-a580-11006eaea58f"
      },
      "execution_count": 6,
      "outputs": [
        {
          "output_type": "stream",
          "name": "stdout",
          "text": [
            "[-0.99805745]\n"
          ]
        }
      ]
    },
    {
      "cell_type": "code",
      "source": [
        "print(NN.feedForward([0,1]))"
      ],
      "metadata": {
        "colab": {
          "base_uri": "https://localhost:8080/"
        },
        "id": "CVyJK29BUObG",
        "outputId": "97d0172f-c724-49da-fecf-4aedf30f6bab"
      },
      "execution_count": 7,
      "outputs": [
        {
          "output_type": "stream",
          "name": "stdout",
          "text": [
            "[0.91220851]\n"
          ]
        }
      ]
    },
    {
      "cell_type": "code",
      "source": [
        ""
      ],
      "metadata": {
        "id": "aS5aKdi8UVfm"
      },
      "execution_count": 8,
      "outputs": []
    }
  ]
}